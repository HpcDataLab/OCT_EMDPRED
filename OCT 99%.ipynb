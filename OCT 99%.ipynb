{
 "cells": [
  {
   "cell_type": "code",
   "execution_count": 1,
   "id": "6feb3716",
   "metadata": {},
   "outputs": [],
   "source": [
    "import tensorflow as tf\n",
    "import numpy as np\n",
    "import cv2\n",
    "import os\n",
    "from sklearn.model_selection import train_test_split\n",
    "import matplotlib.pyplot as plt\n",
    "from keras.preprocessing.image import ImageDataGenerator\n",
    "from keras.utils.np_utils import to_categorical\n",
    "from keras.models import Sequential\n",
    "from keras.layers import Dense\n",
    "from keras.optimizers import Adam\n",
    "from keras.layers import Dropout,Flatten\n",
    "from keras.layers.convolutional import Conv2D,MaxPooling2D\n",
    "import pickle\n"
   ]
  },
  {
   "cell_type": "code",
   "execution_count": 4,
   "id": "83139b1b",
   "metadata": {},
   "outputs": [],
   "source": [
    "path1 =\"/volume/OCT/OCT2017/train\"\n",
    "path2 =\"/volume/OCT/OCT2017/test\"\n",
    "path3 =\"/volume/OCT/OCT2017/val\"\n",
    "test_ratio=0.2\n",
    "val_ratio=0.2\n",
    "image_size=(128,128,3)"
   ]
  },
  {
   "cell_type": "code",
   "execution_count": 5,
   "id": "d4f35c65",
   "metadata": {},
   "outputs": [
    {
     "name": "stdout",
     "output_type": "stream",
     "text": [
      "Total Number of Classes Detected : 4\n"
     ]
    }
   ],
   "source": [
    "myList = os.listdir(path1)\n",
    "print(\"Total Number of Classes Detected :\",len(myList))"
   ]
  },
  {
   "cell_type": "code",
   "execution_count": 7,
   "id": "04b6dcbd",
   "metadata": {},
   "outputs": [
    {
     "name": "stdout",
     "output_type": "stream",
     "text": [
      "['DRUSEN', 'NORMAL', 'CNV', 'DME']\n"
     ]
    }
   ],
   "source": [
    "noOfclasses= len(myList)\n",
    "print(myList)"
   ]
  },
  {
   "cell_type": "code",
   "execution_count": 9,
   "id": "f2c523b2",
   "metadata": {},
   "outputs": [
    {
     "name": "stdout",
     "output_type": "stream",
     "text": [
      "DRUSEN NORMAL CNV DME "
     ]
    }
   ],
   "source": [
    "images=[]\n",
    "classNo=[]\n",
    "CATEGORIES = ['NORMAL',\"CNV\",\"DME\",\"DRUSEN\"]\n",
    "for x in myList:\n",
    "  myPicList = os.listdir(path1+\"/\"+str(x))\n",
    "  for y in myPicList:\n",
    "    curImg = cv2.imread(path1+\"/\"+str(x)+\"/\"+y)\n",
    "    curImg = cv2.resize(curImg,(image_size[0],image_size[1]))\n",
    "    images.append(curImg)\n",
    "    classNo.append(CATEGORIES.index(x))\n",
    "  print(x,end=\" \")"
   ]
  },
  {
   "cell_type": "code",
   "execution_count": 10,
   "id": "e5610cb4",
   "metadata": {},
   "outputs": [
    {
     "name": "stdout",
     "output_type": "stream",
     "text": [
      "DRUSEN NORMAL CNV DME "
     ]
    }
   ],
   "source": [
    "x_test=[]\n",
    "y_test=[]\n",
    "CATEGORIES = ['NORMAL',\"CNV\",\"DME\",\"DRUSEN\"]\n",
    "for x in myList:\n",
    "  myPicList = os.listdir(path2+\"/\"+str(x))\n",
    "  for y in myPicList:\n",
    "    curImg = cv2.imread(path2+\"/\"+str(x)+\"/\"+y)\n",
    "    curImg = cv2.resize(curImg,(image_size[0],image_size[1]))\n",
    "    x_test.append(curImg)\n",
    "    y_test.append(CATEGORIES.index(x))\n",
    "  print(x,end=\" \")"
   ]
  },
  {
   "cell_type": "code",
   "execution_count": 16,
   "id": "5b706422",
   "metadata": {},
   "outputs": [
    {
     "name": "stdout",
     "output_type": "stream",
     "text": [
      "DRUSEN NORMAL CNV DME "
     ]
    }
   ],
   "source": [
    "x_val=[]\n",
    "y_val=[]\n",
    "CATEGORIES = ['NORMAL',\"CNV\",\"DME\",\"DRUSEN\"]\n",
    "for x in myList:\n",
    "  myPicList = os.listdir(path3+\"/\"+str(x))\n",
    "  for y in myPicList:\n",
    "    curImg = cv2.imread(path3+\"/\"+str(x)+\"/\"+y)\n",
    "    curImg = cv2.resize(curImg,(image_size[0],image_size[1]))\n",
    "    x_val.append(curImg)\n",
    "    y_val.append(CATEGORIES.index(x))\n",
    "  print(x,end=\" \")"
   ]
  },
  {
   "cell_type": "code",
   "execution_count": 17,
   "id": "20a3d7d3",
   "metadata": {},
   "outputs": [
    {
     "name": "stdout",
     "output_type": "stream",
     "text": [
      "83484\n",
      "83484\n"
     ]
    }
   ],
   "source": [
    "print(len(images))\n",
    "print(len(classNo))"
   ]
  },
  {
   "cell_type": "code",
   "execution_count": 18,
   "id": "e26be01c",
   "metadata": {},
   "outputs": [
    {
     "name": "stdout",
     "output_type": "stream",
     "text": [
      "(83484, 128, 128, 3)\n",
      "(968, 128, 128, 3)\n"
     ]
    }
   ],
   "source": [
    "x_train = np.array(images)\n",
    "y_train = np.array(classNo)\n",
    "\n",
    "x_test = np.array(x_test)\n",
    "y_test = np.array(y_test)\n",
    "x_val = np.array(x_val)\n",
    "y_val = np.array(y_val)\n",
    "print(x_train.shape)\n",
    "print(x_test.shape)"
   ]
  },
  {
   "cell_type": "code",
   "execution_count": 19,
   "id": "794b1834",
   "metadata": {},
   "outputs": [],
   "source": [
    "del images\n",
    "del classNo"
   ]
  },
  {
   "cell_type": "code",
   "execution_count": 20,
   "id": "c018e944",
   "metadata": {},
   "outputs": [
    {
     "name": "stdout",
     "output_type": "stream",
     "text": [
      "(83484, 128, 128, 3)\n",
      "(968, 128, 128, 3)\n",
      "(32, 128, 128, 3)\n"
     ]
    }
   ],
   "source": [
    "print(x_train.shape)\n",
    "print(x_test.shape)\n",
    "print(x_val.shape)"
   ]
  },
  {
   "cell_type": "code",
   "execution_count": 21,
   "id": "85bcb52a",
   "metadata": {},
   "outputs": [],
   "source": [
    "numofSamples=[]\n",
    "for x in range(0,noOfclasses):\n",
    "  numofSamples.append(len(np.where(y_train==x)[0]))"
   ]
  },
  {
   "cell_type": "code",
   "execution_count": 22,
   "id": "fa529026",
   "metadata": {},
   "outputs": [
    {
     "name": "stdout",
     "output_type": "stream",
     "text": [
      "[26315, 37205, 11348, 8616]\n"
     ]
    }
   ],
   "source": [
    "print(numofSamples)"
   ]
  },
  {
   "cell_type": "code",
   "execution_count": 23,
   "id": "df3843fd",
   "metadata": {},
   "outputs": [
    {
     "data": {
      "image/png": "[encoded data removed]",
      "text/plain": [
       "<Figure size 720x360 with 1 Axes>"
      ]
     },
     "metadata": {
      "needs_background": "light"
     },
     "output_type": "display_data"
    }
   ],
   "source": [
    "plt.figure(figsize=(10,5))\n",
    "plt.bar(range(0,noOfclasses),numofSamples)\n",
    "plt.title('No of Images for each Class')\n",
    "plt.xlabel(\"Class ID\")\n",
    "plt.ylabel(\"No of Images\")\n",
    "plt.show()"
   ]
  },
  {
   "cell_type": "code",
   "execution_count": 26,
   "id": "758dd66b",
   "metadata": {},
   "outputs": [
    {
     "name": "stderr",
     "output_type": "stream",
     "text": [
      "/usr/local/lib/python3.8/dist-packages/seaborn/_decorators.py:36: FutureWarning: Pass the following variable as a keyword arg: x. From version 0.12, the only valid positional argument will be `data`, and passing other arguments without an explicit keyword will result in an error or misinterpretation.\n",
      "  warnings.warn(\n"
     ]
    },
    {
     "data": {
      "text/plain": [
       "<AxesSubplot:xlabel='labels', ylabel='count'>"
      ]
     },
     "execution_count": 26,
     "metadata": {},
     "output_type": "execute_result"
    },
    {
     "data": {
      "image/png": "[encoded data removed]",
      "text/plain": [
       "<Figure size 432x288 with 1 Axes>"
      ]
     },
     "metadata": {
      "needs_background": "light"
     },
     "output_type": "display_data"
    }
   ],
   "source": [
    "from imblearn.under_sampling import RandomUnderSampler\n",
    "import pandas as pd\n",
    "import seaborn as sns\n",
    "X_trainShape = x_train.shape[1]*x_train.shape[2]*x_train.shape[3]\n",
    "X_trainFlat = x_train.reshape(x_train.shape[0], X_trainShape)\n",
    "Y_train = y_train\n",
    "ros = RandomUnderSampler()\n",
    "X_trainRos, Y_trainRos = ros.fit_resample(X_trainFlat, Y_train)\n",
    "# Encode labels to hot vectors (ex : 2 -> [0,0,1,0,0,0,0,0,0,0])\n",
    "Y_trainRosHot = to_categorical(Y_trainRos, num_classes = 4)\n",
    "# Make Data 2D again\n",
    "for i in range(len(X_trainRos)):\n",
    "    height, width, channels = image_size[0],image_size[1],3\n",
    "    X_trainRosReshaped = X_trainRos.reshape(len(X_trainRos),height,width,channels)\n",
    "# Plot Label Distribution\n",
    "dfRos = pd.DataFrame()\n",
    "dfRos[\"labels\"]=Y_trainRos\n",
    "labRos = dfRos['labels']\n",
    "sns.countplot(labRos)"
   ]
  },
  {
   "cell_type": "code",
   "execution_count": 27,
   "id": "aec9a6ae",
   "metadata": {},
   "outputs": [],
   "source": [
    "def preProcessing(img):\n",
    "    img = cv2.cvtColor(img,cv2.COLOR_BGR2GRAY)\n",
    "    return img"
   ]
  },
  {
   "cell_type": "code",
   "execution_count": 28,
   "id": "5be9aa98",
   "metadata": {},
   "outputs": [],
   "source": [
    "del x_train\n",
    "del y_train"
   ]
  },
  {
   "cell_type": "code",
   "execution_count": 29,
   "id": "2e128f86",
   "metadata": {},
   "outputs": [
    {
     "name": "stdout",
     "output_type": "stream",
     "text": [
      "(128, 128)\n"
     ]
    }
   ],
   "source": [
    "x_train = np.array(list(map(preProcessing,X_trainRosReshaped)))\n",
    "print(x_train[0].shape)"
   ]
  },
  {
   "cell_type": "code",
   "execution_count": 30,
   "id": "48225411",
   "metadata": {},
   "outputs": [
    {
     "name": "stdout",
     "output_type": "stream",
     "text": [
      "(128, 128)\n"
     ]
    }
   ],
   "source": [
    "x_test = np.array(list(map(preProcessing,x_test)))\n",
    "print(x_test[0].shape)"
   ]
  },
  {
   "cell_type": "code",
   "execution_count": 31,
   "id": "fd92b8d8",
   "metadata": {},
   "outputs": [
    {
     "name": "stdout",
     "output_type": "stream",
     "text": [
      "(128, 128)\n"
     ]
    }
   ],
   "source": [
    "#print(x_validation[0].shape)\n",
    "x_validation = np.array(list(map(preProcessing,x_val)))\n",
    "print(x_validation[0].shape)"
   ]
  },
  {
   "cell_type": "code",
   "execution_count": 32,
   "id": "1efd3558",
   "metadata": {},
   "outputs": [
    {
     "name": "stdout",
     "output_type": "stream",
     "text": [
      "(34464, 128, 128)\n"
     ]
    }
   ],
   "source": [
    "print(x_train.shape)"
   ]
  },
  {
   "cell_type": "code",
   "execution_count": 33,
   "id": "e66758d7",
   "metadata": {},
   "outputs": [
    {
     "name": "stdout",
     "output_type": "stream",
     "text": [
      "(34464, 128, 128, 1)\n"
     ]
    }
   ],
   "source": [
    "X_train = x_train.reshape(x_train.shape[0],x_train.shape[1],x_train.shape[2],1)\n",
    "print(X_train.shape)"
   ]
  },
  {
   "cell_type": "code",
   "execution_count": 34,
   "id": "bb75c8c8",
   "metadata": {},
   "outputs": [],
   "source": [
    "X_test = x_test.reshape(x_test.shape[0],x_test.shape[1],x_test.shape[2],1)\n",
    "X_validation = x_validation.reshape(x_validation.shape[0],x_validation.shape[1],x_validation.shape[2],1)"
   ]
  },
  {
   "cell_type": "code",
   "execution_count": 35,
   "id": "1c3bdb40",
   "metadata": {},
   "outputs": [],
   "source": [
    "del x_test\n",
    "del x_train\n",
    "del x_validation"
   ]
  },
  {
   "cell_type": "code",
   "execution_count": 36,
   "id": "847e89fd",
   "metadata": {},
   "outputs": [],
   "source": [
    "y_train = to_categorical(Y_trainRos,noOfclasses)\n",
    "y_test = to_categorical(y_test,noOfclasses)\n",
    "y_validation = to_categorical(y_val,noOfclasses)"
   ]
  },
  {
   "cell_type": "code",
   "execution_count": 37,
   "id": "cbe3625b",
   "metadata": {},
   "outputs": [],
   "source": [
    "class CustomCallback(tf.keras.callbacks.Callback):\n",
    "  def __init__(self,fraction):\n",
    "    super(CustomCallback,self).__init__()\n",
    "    self.fraction = fraction\n",
    "    self.train_a = [];\n",
    "    self.val_a =[];\n",
    "\n",
    "    with open('log.txt','w') as f:\n",
    "      f.write('Starting of logging..\\n')\n",
    "\n",
    "    self.fig = plt.figure(figsize=(4,3))\n",
    "    self.ax = plt.subplot(1,1,1)\n",
    "    plt.ion()\n",
    "\n",
    "  def on_train_begin(self,logs=None):\n",
    "    self.fig.show()\n",
    "    self.fig.canvas.draw()\n",
    "  \n",
    "  def on_train_end(self,logs=None):\n",
    "    with open('log.txt','a') as f:\n",
    "      f.write('End of logging..\\n')\n",
    "  def on_epoch_begin(self,epoch,logs=None):\n",
    "    lr= tf.keras.backend.get_value(self.model.optimizer.lr)\n",
    "    lr *= self.fraction\n",
    "    tf.keras.backend.set_value(self.model.optimizer.lr,lr)\n",
    "    with open('log.txt','a') as f:\n",
    "      f.write('At epoch {:02d}, learning rate changed to {:.4f}\\n'.format(epoch,lr))\n",
    "  def on_epoch_end(self,epoch,logs=None):\n",
    "    val_acc = logs.get('val_accuracy')\n",
    "    train_acc = logs.get('accuracy')\n",
    "    self.train_a.append(train_acc)\n",
    "    self.val_a.append(val_acc)\n",
    "    with open('log.txt','a') as f:\n",
    "        f.write('At epoch {:02d}, training accuracy: {:.3f}, validation accuracy: {:.3f}\\n'.format(epoch,train_acc,val_acc))\n",
    "    self.ax.clear()\n",
    "    self.ax.plot(range(1+epoch),self.train_a,label=\"Training\")\n",
    "    self.ax.plot(range(1+epoch),self.val_a,label=\"Validation\")\n",
    "    self.ax.set_xlabel('Epochs')\n",
    "    self.ax.set_ylabel('Accuracy')\n",
    "    self.ax.legend()\n",
    "    self.fig.canvas.draw()\n",
    "    self.fig.show()"
   ]
  },
  {
   "cell_type": "code",
   "execution_count": 38,
   "id": "f60983e3",
   "metadata": {},
   "outputs": [],
   "source": [
    "def model():\n",
    "  filters=60\n",
    "  sizeoffilter1 = (5,5)\n",
    "  sizeoffilter2 = (4,4)\n",
    "  sizeoffilter3 = (3,3)\n",
    "  sizeofpool = (2,2)\n",
    "  node=5000\n",
    "\n",
    "  model = Sequential();\n",
    "  model.add((Conv2D(filters,sizeoffilter1,input_shape=(image_size[0],image_size[1],1)\n",
    "  ,activation=\"relu\")))\n",
    "\n",
    "  model.add((Conv2D(filters,sizeoffilter1,activation=\"relu\")))\n",
    "  model.add((Conv2D(filters//2,sizeoffilter2,activation=\"relu\")))\n",
    "  model.add((Conv2D(filters//2,sizeoffilter2,activation=\"relu\")))\n",
    "  model.add(MaxPooling2D(pool_size=sizeofpool))\n",
    "  model.add(Dropout(0.2))\n",
    "\n",
    "  model.add((Conv2D(filters,sizeoffilter1,activation=\"relu\")))\n",
    "  model.add((Conv2D(filters//2,sizeoffilter2,activation=\"relu\")))\n",
    "  model.add((Conv2D(filters//2,sizeoffilter2,activation=\"relu\")))\n",
    "  model.add(MaxPooling2D(pool_size=sizeofpool))\n",
    "  model.add(Dropout(0.2))\n",
    "\n",
    "  model.add((Conv2D(filters,sizeoffilter2,activation=\"relu\")))\n",
    "  model.add(MaxPooling2D(pool_size=sizeofpool))\n",
    "  model.add((Conv2D(filters//2,sizeoffilter3,activation=\"relu\")))\n",
    "  model.add((Conv2D(filters//2,sizeoffilter3,activation=\"relu\")))\n",
    "  model.add(MaxPooling2D(pool_size=sizeofpool))\n",
    "  model.add(Dropout(0.2))\n",
    "\n",
    "  model.add(Flatten())\n",
    "  model.add(Dense(node,activation=\"relu\"))\n",
    "  model.add(Dropout(0.2))\n",
    "  model.add(Dense(noOfclasses,activation=\"softmax\"))\n",
    "\n",
    "  model.compile(Adam(lr=0.001),loss=\"categorical_crossentropy\",metrics=['accuracy'])\n",
    "\n",
    "  return model\n",
    "  \n",
    "model=model()"
   ]
  },
  {
   "cell_type": "code",
   "execution_count": 39,
   "id": "db1b3f34",
   "metadata": {},
   "outputs": [
    {
     "name": "stdout",
     "output_type": "stream",
     "text": [
      "Model: \"sequential\"\n",
      "_________________________________________________________________\n",
      "Layer (type)                 Output Shape              Param #   \n",
      "=================================================================\n",
      "conv2d (Conv2D)              (None, 124, 124, 60)      1560      \n",
      "_________________________________________________________________\n",
      "conv2d_1 (Conv2D)            (None, 120, 120, 60)      90060     \n",
      "_________________________________________________________________\n",
      "conv2d_2 (Conv2D)            (None, 117, 117, 30)      28830     \n",
      "_________________________________________________________________\n",
      "conv2d_3 (Conv2D)            (None, 114, 114, 30)      14430     \n",
      "_________________________________________________________________\n",
      "max_pooling2d (MaxPooling2D) (None, 57, 57, 30)        0         \n",
      "_________________________________________________________________\n",
      "dropout (Dropout)            (None, 57, 57, 30)        0         \n",
      "_________________________________________________________________\n",
      "conv2d_4 (Conv2D)            (None, 53, 53, 60)        45060     \n",
      "_________________________________________________________________\n",
      "conv2d_5 (Conv2D)            (None, 50, 50, 30)        28830     \n",
      "_________________________________________________________________\n",
      "conv2d_6 (Conv2D)            (None, 47, 47, 30)        14430     \n",
      "_________________________________________________________________\n",
      "max_pooling2d_1 (MaxPooling2 (None, 23, 23, 30)        0         \n",
      "_________________________________________________________________\n",
      "dropout_1 (Dropout)          (None, 23, 23, 30)        0         \n",
      "_________________________________________________________________\n",
      "conv2d_7 (Conv2D)            (None, 20, 20, 60)        28860     \n",
      "_________________________________________________________________\n",
      "max_pooling2d_2 (MaxPooling2 (None, 10, 10, 60)        0         \n",
      "_________________________________________________________________\n",
      "conv2d_8 (Conv2D)            (None, 8, 8, 30)          16230     \n",
      "_________________________________________________________________\n",
      "conv2d_9 (Conv2D)            (None, 6, 6, 30)          8130      \n",
      "_________________________________________________________________\n",
      "max_pooling2d_3 (MaxPooling2 (None, 3, 3, 30)          0         \n",
      "_________________________________________________________________\n",
      "dropout_2 (Dropout)          (None, 3, 3, 30)          0         \n",
      "_________________________________________________________________\n",
      "flatten (Flatten)            (None, 270)               0         \n",
      "_________________________________________________________________\n",
      "dense (Dense)                (None, 5000)              1355000   \n",
      "_________________________________________________________________\n",
      "dropout_3 (Dropout)          (None, 5000)              0         \n",
      "_________________________________________________________________\n",
      "dense_1 (Dense)              (None, 4)                 20004     \n",
      "=================================================================\n",
      "Total params: 1,651,424\n",
      "Trainable params: 1,651,424\n",
      "Non-trainable params: 0\n",
      "_________________________________________________________________\n"
     ]
    }
   ],
   "source": [
    "model.summary()"
   ]
  },
  {
   "cell_type": "code",
   "execution_count": 40,
   "id": "2f28b9ad",
   "metadata": {},
   "outputs": [],
   "source": [
    "os.environ[\"CUDA_VISIBLE_DEVICES\"]=\"0\""
   ]
  },
  {
   "cell_type": "code",
   "execution_count": null,
   "id": "a62c480b",
   "metadata": {},
   "outputs": [
    {
     "name": "stdout",
     "output_type": "stream",
     "text": [
      "Epoch 1/50\n",
      " 26/135 [====>.........................] - ETA: 49:39 - loss: 1.4456 - accuracy: 0.2494"
     ]
    }
   ],
   "source": [
    "history = model.fit(X_train,Y_trainRosHot,epochs=50,validation_data =(X_validation,y_validation) ,batch_size=256,\n",
    "                    shuffle=True,\n",
    "                    max_queue_size=20,\n",
    "                    use_multiprocessing=True,\n",
    "                    workers=1,\n",
    "                   callbacks=[CustomCallback(fraction=0.9)])"
   ]
  },
  {
   "cell_type": "code",
   "execution_count": null,
   "id": "fa85deb2",
   "metadata": {},
   "outputs": [],
   "source": [
    "prediction = model.predict"
   ]
  }
 ],
 "metadata": {
  "kernelspec": {
   "display_name": "Python 3",
   "language": "python",
   "name": "python3"
  },
  "language_info": {
   "codemirror_mode": {
    "name": "ipython",
    "version": 3
   },
   "file_extension": ".py",
   "mimetype": "text/x-python",
   "name": "python",
   "nbconvert_exporter": "python",
   "pygments_lexer": "ipython3",
   "version": "3.8.5"
  }
 },
 "nbformat": 4,
 "nbformat_minor": 5
}
